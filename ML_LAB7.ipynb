{
  "nbformat": 4,
  "nbformat_minor": 0,
  "metadata": {
    "colab": {
      "provenance": [],
      "authorship_tag": "ABX9TyMXhmvzQCn6aXWfu49HGpBq",
      "include_colab_link": true
    },
    "kernelspec": {
      "name": "python3",
      "display_name": "Python 3"
    },
    "language_info": {
      "name": "python"
    }
  },
  "cells": [
    {
      "cell_type": "markdown",
      "metadata": {
        "id": "view-in-github",
        "colab_type": "text"
      },
      "source": [
        "<a href=\"https://colab.research.google.com/github/spoorthi0802/Machinelearning/blob/main/ML_LAB7.ipynb\" target=\"_parent\"><img src=\"https://colab.research.google.com/assets/colab-badge.svg\" alt=\"Open In Colab\"/></a>"
      ]
    },
    {
      "cell_type": "code",
      "execution_count": 3,
      "metadata": {
        "id": "NUmubMa8rOr3",
        "colab": {
          "base_uri": "https://localhost:8080/"
        },
        "outputId": "c6425f7c-3335-40e7-c330-264c921b65bd"
      },
      "outputs": [
        {
          "output_type": "stream",
          "name": "stdout",
          "text": [
            "Mounted at /content/drive\n",
            "Drive already mounted at /content/drive; to attempt to forcibly remount, call drive.mount(\"/content/drive\", force_remount=True).\n"
          ]
        }
      ],
      "source": [
        "import numpy as np\n",
        "import pandas as pd\n",
        "import matplotlib.pyplot as plt\n",
        "from sklearn.linear_model import LinearRegression\n",
        "from sklearn.model_selection import train_test_split\n",
        "from sklearn.metrics import mean_squared_error\n",
        "from sklearn.linear_model import LogisticRegression\n",
        "from sklearn.metrics import accuracy_score\n",
        "from sklearn.tree import DecisionTreeRegressor\n",
        "from sklearn.neighbors import KNeighborsRegressor\n",
        "from google.colab import drive\n",
        "drive.mount('/content/drive')"
      ]
    },
    {
      "cell_type": "code",
      "source": [
        "df = pd.read_csv(\"drive/My Drive/code_ques.csv\")\n",
        "df.head()"
      ],
      "metadata": {
        "id": "s9ekR7cIy5Od",
        "colab": {
          "base_uri": "https://localhost:8080/",
          "height": 255
        },
        "outputId": "d320f63b-55c8-4b82-8f26-ca9b83bd38b2"
      },
      "execution_count": 4,
      "outputs": [
        {
          "output_type": "execute_result",
          "data": {
            "text/plain": [
              "          0         1         2         3         4         5         6  \\\n",
              "0 -1.355365  2.348287  1.030452 -1.503548 -0.380958  1.095197 -2.063201   \n",
              "1 -1.403411  2.131454  1.117223 -1.542901 -0.351417  1.042730 -2.025140   \n",
              "2 -1.388594  2.358305  0.994477 -1.480365 -0.382565  1.104627 -2.042682   \n",
              "3 -1.352139  2.155489  1.027737 -1.424550 -0.316464  1.111701 -2.039937   \n",
              "4 -1.411875  2.337363  1.050743 -1.506995 -0.321872  1.118751 -2.068671   \n",
              "\n",
              "          7         8         9  ...       759       760       761       762  \\\n",
              "0 -1.657276  0.780015  0.224140  ... -2.330601  0.542652 -1.660974 -2.150713   \n",
              "1 -1.812830  0.707280  0.165037  ... -2.183963  0.488854 -1.674375 -2.027182   \n",
              "2 -1.669257  0.800453  0.265268  ... -2.347989  0.555944 -1.651969 -2.149015   \n",
              "3 -1.789147  0.725883  0.298638  ... -2.216481  0.487809 -1.595799 -2.143987   \n",
              "4 -1.603735  0.730069  0.242844  ... -2.279187  0.451709 -1.607142 -2.184134   \n",
              "\n",
              "        763       764       765       766       767  score  \n",
              "0  0.545611 -1.614411 -0.133085 -2.134145  1.184289   10.0  \n",
              "1  0.514854 -1.625416  0.014533 -2.156347  1.088794    8.0  \n",
              "2  0.582454 -1.606852 -0.164269 -2.139201  1.158317    7.0  \n",
              "3  0.419316 -1.635483 -0.074271 -2.112344  1.094625    5.0  \n",
              "4  0.521283 -1.604708 -0.055002 -2.056900  1.290956    6.0  \n",
              "\n",
              "[5 rows x 769 columns]"
            ],
            "text/html": [
              "\n",
              "  <div id=\"df-e05a0738-1125-4ac1-8bf2-f2e48d6444b1\" class=\"colab-df-container\">\n",
              "    <div>\n",
              "<style scoped>\n",
              "    .dataframe tbody tr th:only-of-type {\n",
              "        vertical-align: middle;\n",
              "    }\n",
              "\n",
              "    .dataframe tbody tr th {\n",
              "        vertical-align: top;\n",
              "    }\n",
              "\n",
              "    .dataframe thead th {\n",
              "        text-align: right;\n",
              "    }\n",
              "</style>\n",
              "<table border=\"1\" class=\"dataframe\">\n",
              "  <thead>\n",
              "    <tr style=\"text-align: right;\">\n",
              "      <th></th>\n",
              "      <th>0</th>\n",
              "      <th>1</th>\n",
              "      <th>2</th>\n",
              "      <th>3</th>\n",
              "      <th>4</th>\n",
              "      <th>5</th>\n",
              "      <th>6</th>\n",
              "      <th>7</th>\n",
              "      <th>8</th>\n",
              "      <th>9</th>\n",
              "      <th>...</th>\n",
              "      <th>759</th>\n",
              "      <th>760</th>\n",
              "      <th>761</th>\n",
              "      <th>762</th>\n",
              "      <th>763</th>\n",
              "      <th>764</th>\n",
              "      <th>765</th>\n",
              "      <th>766</th>\n",
              "      <th>767</th>\n",
              "      <th>score</th>\n",
              "    </tr>\n",
              "  </thead>\n",
              "  <tbody>\n",
              "    <tr>\n",
              "      <th>0</th>\n",
              "      <td>-1.355365</td>\n",
              "      <td>2.348287</td>\n",
              "      <td>1.030452</td>\n",
              "      <td>-1.503548</td>\n",
              "      <td>-0.380958</td>\n",
              "      <td>1.095197</td>\n",
              "      <td>-2.063201</td>\n",
              "      <td>-1.657276</td>\n",
              "      <td>0.780015</td>\n",
              "      <td>0.224140</td>\n",
              "      <td>...</td>\n",
              "      <td>-2.330601</td>\n",
              "      <td>0.542652</td>\n",
              "      <td>-1.660974</td>\n",
              "      <td>-2.150713</td>\n",
              "      <td>0.545611</td>\n",
              "      <td>-1.614411</td>\n",
              "      <td>-0.133085</td>\n",
              "      <td>-2.134145</td>\n",
              "      <td>1.184289</td>\n",
              "      <td>10.0</td>\n",
              "    </tr>\n",
              "    <tr>\n",
              "      <th>1</th>\n",
              "      <td>-1.403411</td>\n",
              "      <td>2.131454</td>\n",
              "      <td>1.117223</td>\n",
              "      <td>-1.542901</td>\n",
              "      <td>-0.351417</td>\n",
              "      <td>1.042730</td>\n",
              "      <td>-2.025140</td>\n",
              "      <td>-1.812830</td>\n",
              "      <td>0.707280</td>\n",
              "      <td>0.165037</td>\n",
              "      <td>...</td>\n",
              "      <td>-2.183963</td>\n",
              "      <td>0.488854</td>\n",
              "      <td>-1.674375</td>\n",
              "      <td>-2.027182</td>\n",
              "      <td>0.514854</td>\n",
              "      <td>-1.625416</td>\n",
              "      <td>0.014533</td>\n",
              "      <td>-2.156347</td>\n",
              "      <td>1.088794</td>\n",
              "      <td>8.0</td>\n",
              "    </tr>\n",
              "    <tr>\n",
              "      <th>2</th>\n",
              "      <td>-1.388594</td>\n",
              "      <td>2.358305</td>\n",
              "      <td>0.994477</td>\n",
              "      <td>-1.480365</td>\n",
              "      <td>-0.382565</td>\n",
              "      <td>1.104627</td>\n",
              "      <td>-2.042682</td>\n",
              "      <td>-1.669257</td>\n",
              "      <td>0.800453</td>\n",
              "      <td>0.265268</td>\n",
              "      <td>...</td>\n",
              "      <td>-2.347989</td>\n",
              "      <td>0.555944</td>\n",
              "      <td>-1.651969</td>\n",
              "      <td>-2.149015</td>\n",
              "      <td>0.582454</td>\n",
              "      <td>-1.606852</td>\n",
              "      <td>-0.164269</td>\n",
              "      <td>-2.139201</td>\n",
              "      <td>1.158317</td>\n",
              "      <td>7.0</td>\n",
              "    </tr>\n",
              "    <tr>\n",
              "      <th>3</th>\n",
              "      <td>-1.352139</td>\n",
              "      <td>2.155489</td>\n",
              "      <td>1.027737</td>\n",
              "      <td>-1.424550</td>\n",
              "      <td>-0.316464</td>\n",
              "      <td>1.111701</td>\n",
              "      <td>-2.039937</td>\n",
              "      <td>-1.789147</td>\n",
              "      <td>0.725883</td>\n",
              "      <td>0.298638</td>\n",
              "      <td>...</td>\n",
              "      <td>-2.216481</td>\n",
              "      <td>0.487809</td>\n",
              "      <td>-1.595799</td>\n",
              "      <td>-2.143987</td>\n",
              "      <td>0.419316</td>\n",
              "      <td>-1.635483</td>\n",
              "      <td>-0.074271</td>\n",
              "      <td>-2.112344</td>\n",
              "      <td>1.094625</td>\n",
              "      <td>5.0</td>\n",
              "    </tr>\n",
              "    <tr>\n",
              "      <th>4</th>\n",
              "      <td>-1.411875</td>\n",
              "      <td>2.337363</td>\n",
              "      <td>1.050743</td>\n",
              "      <td>-1.506995</td>\n",
              "      <td>-0.321872</td>\n",
              "      <td>1.118751</td>\n",
              "      <td>-2.068671</td>\n",
              "      <td>-1.603735</td>\n",
              "      <td>0.730069</td>\n",
              "      <td>0.242844</td>\n",
              "      <td>...</td>\n",
              "      <td>-2.279187</td>\n",
              "      <td>0.451709</td>\n",
              "      <td>-1.607142</td>\n",
              "      <td>-2.184134</td>\n",
              "      <td>0.521283</td>\n",
              "      <td>-1.604708</td>\n",
              "      <td>-0.055002</td>\n",
              "      <td>-2.056900</td>\n",
              "      <td>1.290956</td>\n",
              "      <td>6.0</td>\n",
              "    </tr>\n",
              "  </tbody>\n",
              "</table>\n",
              "<p>5 rows × 769 columns</p>\n",
              "</div>\n",
              "    <div class=\"colab-df-buttons\">\n",
              "\n",
              "  <div class=\"colab-df-container\">\n",
              "    <button class=\"colab-df-convert\" onclick=\"convertToInteractive('df-e05a0738-1125-4ac1-8bf2-f2e48d6444b1')\"\n",
              "            title=\"Convert this dataframe to an interactive table.\"\n",
              "            style=\"display:none;\">\n",
              "\n",
              "  <svg xmlns=\"http://www.w3.org/2000/svg\" height=\"24px\" viewBox=\"0 -960 960 960\">\n",
              "    <path d=\"M120-120v-720h720v720H120Zm60-500h600v-160H180v160Zm220 220h160v-160H400v160Zm0 220h160v-160H400v160ZM180-400h160v-160H180v160Zm440 0h160v-160H620v160ZM180-180h160v-160H180v160Zm440 0h160v-160H620v160Z\"/>\n",
              "  </svg>\n",
              "    </button>\n",
              "\n",
              "  <style>\n",
              "    .colab-df-container {\n",
              "      display:flex;\n",
              "      gap: 12px;\n",
              "    }\n",
              "\n",
              "    .colab-df-convert {\n",
              "      background-color: #E8F0FE;\n",
              "      border: none;\n",
              "      border-radius: 50%;\n",
              "      cursor: pointer;\n",
              "      display: none;\n",
              "      fill: #1967D2;\n",
              "      height: 32px;\n",
              "      padding: 0 0 0 0;\n",
              "      width: 32px;\n",
              "    }\n",
              "\n",
              "    .colab-df-convert:hover {\n",
              "      background-color: #E2EBFA;\n",
              "      box-shadow: 0px 1px 2px rgba(60, 64, 67, 0.3), 0px 1px 3px 1px rgba(60, 64, 67, 0.15);\n",
              "      fill: #174EA6;\n",
              "    }\n",
              "\n",
              "    .colab-df-buttons div {\n",
              "      margin-bottom: 4px;\n",
              "    }\n",
              "\n",
              "    [theme=dark] .colab-df-convert {\n",
              "      background-color: #3B4455;\n",
              "      fill: #D2E3FC;\n",
              "    }\n",
              "\n",
              "    [theme=dark] .colab-df-convert:hover {\n",
              "      background-color: #434B5C;\n",
              "      box-shadow: 0px 1px 3px 1px rgba(0, 0, 0, 0.15);\n",
              "      filter: drop-shadow(0px 1px 2px rgba(0, 0, 0, 0.3));\n",
              "      fill: #FFFFFF;\n",
              "    }\n",
              "  </style>\n",
              "\n",
              "    <script>\n",
              "      const buttonEl =\n",
              "        document.querySelector('#df-e05a0738-1125-4ac1-8bf2-f2e48d6444b1 button.colab-df-convert');\n",
              "      buttonEl.style.display =\n",
              "        google.colab.kernel.accessAllowed ? 'block' : 'none';\n",
              "\n",
              "      async function convertToInteractive(key) {\n",
              "        const element = document.querySelector('#df-e05a0738-1125-4ac1-8bf2-f2e48d6444b1');\n",
              "        const dataTable =\n",
              "          await google.colab.kernel.invokeFunction('convertToInteractive',\n",
              "                                                    [key], {});\n",
              "        if (!dataTable) return;\n",
              "\n",
              "        const docLinkHtml = 'Like what you see? Visit the ' +\n",
              "          '<a target=\"_blank\" href=https://colab.research.google.com/notebooks/data_table.ipynb>data table notebook</a>'\n",
              "          + ' to learn more about interactive tables.';\n",
              "        element.innerHTML = '';\n",
              "        dataTable['output_type'] = 'display_data';\n",
              "        await google.colab.output.renderOutput(dataTable, element);\n",
              "        const docLink = document.createElement('div');\n",
              "        docLink.innerHTML = docLinkHtml;\n",
              "        element.appendChild(docLink);\n",
              "      }\n",
              "    </script>\n",
              "  </div>\n",
              "\n",
              "\n",
              "<div id=\"df-5057687d-575a-407c-b5a3-89e194df91e0\">\n",
              "  <button class=\"colab-df-quickchart\" onclick=\"quickchart('df-5057687d-575a-407c-b5a3-89e194df91e0')\"\n",
              "            title=\"Suggest charts.\"\n",
              "            style=\"display:none;\">\n",
              "\n",
              "<svg xmlns=\"http://www.w3.org/2000/svg\" height=\"24px\"viewBox=\"0 0 24 24\"\n",
              "     width=\"24px\">\n",
              "    <g>\n",
              "        <path d=\"M19 3H5c-1.1 0-2 .9-2 2v14c0 1.1.9 2 2 2h14c1.1 0 2-.9 2-2V5c0-1.1-.9-2-2-2zM9 17H7v-7h2v7zm4 0h-2V7h2v10zm4 0h-2v-4h2v4z\"/>\n",
              "    </g>\n",
              "</svg>\n",
              "  </button>\n",
              "\n",
              "<style>\n",
              "  .colab-df-quickchart {\n",
              "      --bg-color: #E8F0FE;\n",
              "      --fill-color: #1967D2;\n",
              "      --hover-bg-color: #E2EBFA;\n",
              "      --hover-fill-color: #174EA6;\n",
              "      --disabled-fill-color: #AAA;\n",
              "      --disabled-bg-color: #DDD;\n",
              "  }\n",
              "\n",
              "  [theme=dark] .colab-df-quickchart {\n",
              "      --bg-color: #3B4455;\n",
              "      --fill-color: #D2E3FC;\n",
              "      --hover-bg-color: #434B5C;\n",
              "      --hover-fill-color: #FFFFFF;\n",
              "      --disabled-bg-color: #3B4455;\n",
              "      --disabled-fill-color: #666;\n",
              "  }\n",
              "\n",
              "  .colab-df-quickchart {\n",
              "    background-color: var(--bg-color);\n",
              "    border: none;\n",
              "    border-radius: 50%;\n",
              "    cursor: pointer;\n",
              "    display: none;\n",
              "    fill: var(--fill-color);\n",
              "    height: 32px;\n",
              "    padding: 0;\n",
              "    width: 32px;\n",
              "  }\n",
              "\n",
              "  .colab-df-quickchart:hover {\n",
              "    background-color: var(--hover-bg-color);\n",
              "    box-shadow: 0 1px 2px rgba(60, 64, 67, 0.3), 0 1px 3px 1px rgba(60, 64, 67, 0.15);\n",
              "    fill: var(--button-hover-fill-color);\n",
              "  }\n",
              "\n",
              "  .colab-df-quickchart-complete:disabled,\n",
              "  .colab-df-quickchart-complete:disabled:hover {\n",
              "    background-color: var(--disabled-bg-color);\n",
              "    fill: var(--disabled-fill-color);\n",
              "    box-shadow: none;\n",
              "  }\n",
              "\n",
              "  .colab-df-spinner {\n",
              "    border: 2px solid var(--fill-color);\n",
              "    border-color: transparent;\n",
              "    border-bottom-color: var(--fill-color);\n",
              "    animation:\n",
              "      spin 1s steps(1) infinite;\n",
              "  }\n",
              "\n",
              "  @keyframes spin {\n",
              "    0% {\n",
              "      border-color: transparent;\n",
              "      border-bottom-color: var(--fill-color);\n",
              "      border-left-color: var(--fill-color);\n",
              "    }\n",
              "    20% {\n",
              "      border-color: transparent;\n",
              "      border-left-color: var(--fill-color);\n",
              "      border-top-color: var(--fill-color);\n",
              "    }\n",
              "    30% {\n",
              "      border-color: transparent;\n",
              "      border-left-color: var(--fill-color);\n",
              "      border-top-color: var(--fill-color);\n",
              "      border-right-color: var(--fill-color);\n",
              "    }\n",
              "    40% {\n",
              "      border-color: transparent;\n",
              "      border-right-color: var(--fill-color);\n",
              "      border-top-color: var(--fill-color);\n",
              "    }\n",
              "    60% {\n",
              "      border-color: transparent;\n",
              "      border-right-color: var(--fill-color);\n",
              "    }\n",
              "    80% {\n",
              "      border-color: transparent;\n",
              "      border-right-color: var(--fill-color);\n",
              "      border-bottom-color: var(--fill-color);\n",
              "    }\n",
              "    90% {\n",
              "      border-color: transparent;\n",
              "      border-bottom-color: var(--fill-color);\n",
              "    }\n",
              "  }\n",
              "</style>\n",
              "\n",
              "  <script>\n",
              "    async function quickchart(key) {\n",
              "      const quickchartButtonEl =\n",
              "        document.querySelector('#' + key + ' button');\n",
              "      quickchartButtonEl.disabled = true;  // To prevent multiple clicks.\n",
              "      quickchartButtonEl.classList.add('colab-df-spinner');\n",
              "      try {\n",
              "        const charts = await google.colab.kernel.invokeFunction(\n",
              "            'suggestCharts', [key], {});\n",
              "      } catch (error) {\n",
              "        console.error('Error during call to suggestCharts:', error);\n",
              "      }\n",
              "      quickchartButtonEl.classList.remove('colab-df-spinner');\n",
              "      quickchartButtonEl.classList.add('colab-df-quickchart-complete');\n",
              "    }\n",
              "    (() => {\n",
              "      let quickchartButtonEl =\n",
              "        document.querySelector('#df-5057687d-575a-407c-b5a3-89e194df91e0 button');\n",
              "      quickchartButtonEl.style.display =\n",
              "        google.colab.kernel.accessAllowed ? 'block' : 'none';\n",
              "    })();\n",
              "  </script>\n",
              "</div>\n",
              "    </div>\n",
              "  </div>\n"
            ]
          },
          "metadata": {},
          "execution_count": 4
        }
      ]
    },
    {
      "cell_type": "code",
      "source": [
        "for col in df.columns:\n",
        "  if df[col].isnull().sum()>0:\n",
        "    print(col)\n",
        "    print(df[col].isnull().sum())"
      ],
      "metadata": {
        "id": "5JxVUNK-y5QN",
        "colab": {
          "base_uri": "https://localhost:8080/"
        },
        "outputId": "2b5c39dd-1088-44ef-c6ef-2e6481c625c0"
      },
      "execution_count": 5,
      "outputs": [
        {
          "output_type": "stream",
          "name": "stdout",
          "text": [
            "score\n",
            "4\n"
          ]
        }
      ]
    },
    {
      "cell_type": "code",
      "source": [
        "df.dropna(inplace=True)"
      ],
      "metadata": {
        "id": "AUeVc5W9y5Tz"
      },
      "execution_count": 6,
      "outputs": []
    },
    {
      "cell_type": "code",
      "source": [
        "df['Final_score'] = np.where(df['score'] > 5, 1, 0)"
      ],
      "metadata": {
        "id": "IgxM7TPry5V0"
      },
      "execution_count": 7,
      "outputs": []
    },
    {
      "cell_type": "code",
      "source": [
        "df.shape\n",
        "df.dtypes"
      ],
      "metadata": {
        "id": "vmYb2DNsy5Xv",
        "colab": {
          "base_uri": "https://localhost:8080/"
        },
        "outputId": "919edec6-9e1e-421f-a630-2479fa90ef2c"
      },
      "execution_count": 8,
      "outputs": [
        {
          "output_type": "execute_result",
          "data": {
            "text/plain": [
              "0              float64\n",
              "1              float64\n",
              "2              float64\n",
              "3              float64\n",
              "4              float64\n",
              "                ...   \n",
              "765            float64\n",
              "766            float64\n",
              "767            float64\n",
              "score          float64\n",
              "Final_score      int64\n",
              "Length: 770, dtype: object"
            ]
          },
          "metadata": {},
          "execution_count": 8
        }
      ]
    },
    {
      "cell_type": "code",
      "source": [
        "vector1 = df['1'].to_numpy()\n",
        "vector2 = df['5'].to_numpy()\n",
        "\n",
        "plt.scatter(vector1,vector2)\n",
        "plt.title(\"Scatter Plot\")\n",
        "plt.xlabel(\"Embeddings 0\")\n",
        "plt.ylabel(\"Embeddings 1\")\n",
        "plt.show()"
      ],
      "metadata": {
        "id": "0ck8VcaMy5Zd",
        "colab": {
          "base_uri": "https://localhost:8080/",
          "height": 472
        },
        "outputId": "5c4acf5b-a642-4420-f006-787a7e1e4746"
      },
      "execution_count": 12,
      "outputs": [
        {
          "output_type": "display_data",
          "data": {
            "text/plain": [
              "<Figure size 640x480 with 1 Axes>"
            ],
            "image/png": "[encoded data removed]"
          },
          "metadata": {}
        }
      ]
    },
    {
      "cell_type": "code",
      "source": [
        "model = LinearRegression()\n",
        "X = df[['1']]  # Independent variable\n",
        "y = df['score']  # Dependent variable\n",
        "model.fit(X, y)\n",
        "y_pred = model.predict(X)\n",
        "mse = mean_squared_error(y, y_pred)\n",
        "print(f\"Mean Squared Error: {mse}\")\n"
      ],
      "metadata": {
        "id": "eL3g9ikly5c8",
        "colab": {
          "base_uri": "https://localhost:8080/"
        },
        "outputId": "b4453bf6-7937-426d-c9f4-002cee7136c1"
      },
      "execution_count": 15,
      "outputs": [
        {
          "output_type": "stream",
          "name": "stdout",
          "text": [
            "Mean Squared Error: 10.747590793555236\n"
          ]
        }
      ]
    },
    {
      "cell_type": "code",
      "source": [
        "# Split the data into features (X) and the target variable (y)\n",
        "X = df.drop(['score','Final_score'], axis=1)  # Assuming 'embed_0' and 'embed_1' are your target variables\n",
        "y_column1 = df['score']\n",
        "y_column2 = df['Final_score']\n",
        "\n",
        "# Splitting the data into training and test sets\n",
        "X_train, X_test, y_train_column1, y_test_column1, y_train_column2, y_test_column2 = train_test_split(X, y_column1, y_column2, test_size=0.2, random_state=42)\n",
        "\n",
        "# Create a Decision Tree Regressor for 'embed_0'\n",
        "regressor_column1 = DecisionTreeRegressor()\n",
        "regressor_column1.fit(X_train, y_train_column1)\n",
        "y_pred_column1 = regressor_column1.predict(X_test)\n",
        "\n",
        "# Calculate the Mean Squared Error for 'embed_0'\n",
        "mse_column1 = mean_squared_error(y_test_column1, y_pred_column1)\n",
        "print(\"Mean Squared Error (score):\", mse_column1)\n",
        "\n",
        "# Create a Decision Tree Regressor for 'embed_1'\n",
        "regressor_column2 = DecisionTreeRegressor()\n",
        "regressor_column2.fit(X_train, y_train_column2)\n",
        "y_pred_column2 = regressor_column2.predict(X_test)\n",
        "\n",
        "# Calculate the Mean Squared Error for 'embed_1'\n",
        "mse_column2 = mean_squared_error(y_test_column2, y_pred_column2)\n",
        "print(\"Mean Squared Error (Final score):\", mse_column2)"
      ],
      "metadata": {
        "colab": {
          "base_uri": "https://localhost:8080/"
        },
        "id": "eAAtYtPwqNqm",
        "outputId": "a7ecdd5b-00e3-490c-f209-de7a934e7d9e"
      },
      "execution_count": 16,
      "outputs": [
        {
          "output_type": "stream",
          "name": "stdout",
          "text": [
            "Mean Squared Error (score): 5.705975833990019\n",
            "Mean Squared Error (Final score): 0.321578670869451\n"
          ]
        }
      ]
    },
    {
      "cell_type": "code",
      "source": [
        "knn_regressor_column1 = KNeighborsRegressor(n_neighbors=5)\n",
        "knn_regressor_column1.fit(X_train, y_train_column1)\n",
        "y_pred_column1 = knn_regressor_column1.predict(X_test)\n",
        "\n",
        "# Calculate the Mean Squared Error for 'embed_0'\n",
        "mse_column1 = mean_squared_error(y_test_column1, y_pred_column1)\n",
        "print(\"Mean Squared Error (score):\", mse_column1)\n",
        "\n",
        "# Create a k-NN Regressor for 'embed_1'\n",
        "knn_regressor_column2 = KNeighborsRegressor(n_neighbors=5)\n",
        "knn_regressor_column2.fit(X_train, y_train_column2)\n",
        "y_pred_column2 = knn_regressor_column2.predict(X_test)\n",
        "\n",
        "# Calculate the Mean Squared Error for 'embed_1'\n",
        "mse_column2 = mean_squared_error(y_test_column2, y_pred_column2)\n",
        "print(\"Mean Squared Error (final score):\", mse_column2)"
      ],
      "metadata": {
        "colab": {
          "base_uri": "https://localhost:8080/"
        },
        "id": "eN3Jw_2tr5-E",
        "outputId": "2e306b1e-e673-4082-f9f3-17015187b41b"
      },
      "execution_count": 18,
      "outputs": [
        {
          "output_type": "stream",
          "name": "stdout",
          "text": [
            "Mean Squared Error (score): 3.9552340425531916\n",
            "Mean Squared Error (final score): 0.18178723404255318\n"
          ]
        }
      ]
    }
  ]
}