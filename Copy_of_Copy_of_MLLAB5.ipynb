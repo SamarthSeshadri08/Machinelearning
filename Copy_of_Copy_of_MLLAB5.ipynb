{
  "nbformat": 4,
  "nbformat_minor": 0,
  "metadata": {
    "colab": {
      "provenance": [],
      "authorship_tag": "ABX9TyMor31Li9Sy/AdEJ1Jqp5ot",
      "include_colab_link": true
    },
    "kernelspec": {
      "name": "python3",
      "display_name": "Python 3"
    },
    "language_info": {
      "name": "python"
    }
  },
  "cells": [
    {
      "cell_type": "markdown",
      "metadata": {
        "id": "view-in-github",
        "colab_type": "text"
      },
      "source": [
        "<a href=\"https://colab.research.google.com/github/spoorthi0802/Machinelearning/blob/main/Copy_of_Copy_of_MLLAB5.ipynb\" target=\"_parent\"><img src=\"https://colab.research.google.com/assets/colab-badge.svg\" alt=\"Open In Colab\"/></a>"
      ]
    },
    {
      "cell_type": "code",
      "execution_count": null,
      "metadata": {
        "id": "mrM3U7VxejrT"
      },
      "outputs": [],
      "source": [
        "#aaasdfpoiuytr\n",
        "#aifhwfnweop"
      ]
    }
  ]
}