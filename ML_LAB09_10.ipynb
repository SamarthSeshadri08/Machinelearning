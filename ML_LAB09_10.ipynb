{
  "nbformat": 4,
  "nbformat_minor": 0,
  "metadata": {
    "colab": {
      "provenance": [],
      "authorship_tag": "ABX9TyOjanYVCC+8jKxvbr/AMbDf",
      "include_colab_link": true
    },
    "kernelspec": {
      "name": "python3",
      "display_name": "Python 3"
    },
    "language_info": {
      "name": "python"
    }
  },
  "cells": [
    {
      "cell_type": "markdown",
      "metadata": {
        "id": "view-in-github",
        "colab_type": "text"
      },
      "source": [
        "<a href=\"https://colab.research.google.com/github/spoorthi0802/Machinelearning/blob/main/ML_LAB09_10.ipynb\" target=\"_parent\"><img src=\"https://colab.research.google.com/assets/colab-badge.svg\" alt=\"Open In Colab\"/></a>"
      ]
    },
    {
      "cell_type": "code",
      "execution_count": null,
      "metadata": {
        "id": "RXrxLp8qcU1b"
      },
      "outputs": [],
      "source": [
        "import pandas as pd\n",
        "import matplotlib.pyplot as plt\n",
        "from sklearn.cluster import KMeans\n",
        "from sklearn.preprocessing import StandardScaler\n",
        "\n",
        "# Load data\n",
        "data = pd.read_excel('Parkisons Dataset 1 Final (1).xlsx')\n",
        "\n",
        "# Identify non-numeric columns\n",
        "non_numeric_columns = data.select_dtypes(exclude=['number']).columns.tolist()\n",
        "\n",
        "# Remove non-numeric columns\n",
        "numeric_data = data.drop(non_numeric_columns, axis=1)\n",
        "\n",
        "# Preprocess the numeric data (scaling or normalization might be needed)\n",
        "scaler = StandardScaler()\n",
        "data_scaled = scaler.fit_transform(numeric_data)\n",
        "\n",
        "# K-means clustering with k = 3\n",
        "kmeans3 = KMeans(n_clusters=3)\n",
        "kmeans3.fit(data_scaled)\n",
        "\n",
        "# K-means clustering with k = 5\n",
        "kmeans5 = KMeans(n_clusters=5)\n",
        "kmeans5.fit(data_scaled)\n",
        "\n",
        "# Check inertia or silhouette scores for evaluating the clustering\n",
        "print(\"K=3 Inertia:\", kmeans3.inertia_)\n",
        "print(\"K=5 Inertia:\", kmeans5.inertia_)\n"
      ]
    },
    {
      "cell_type": "code",
      "source": [
        "# Determine the ideal k value using the Elbow Method\n",
        "distortions = []\n",
        "K = range(1, 31)\n",
        "for k in K:\n",
        "    kmeans = KMeans(n_clusters=k)\n",
        "    kmeans.fit(data_scaled)\n",
        "    distortions.append(kmeans.inertia_)\n",
        "\n",
        "# Plotting the Elbow graph\n",
        "plt.figure(figsize=(8, 6))\n",
        "plt.plot(K, distortions, 'bx-')\n",
        "plt.xlabel('k')\n",
        "plt.ylabel('Average Distortion')\n",
        "plt.title('Elbow Method For Optimal k')\n",
        "plt.show()"
      ],
      "metadata": {
        "id": "jeA6pKDHc3a6"
      },
      "execution_count": null,
      "outputs": []
    },
    {
      "cell_type": "code",
      "source": [
        "import scipy.cluster.hierarchy as sch\n",
        "\n",
        "# Hierarchical clustering using Agglomerative Clustering\n",
        "plt.figure(figsize=(10, 7))\n",
        "dendrogram = sch.dendrogram(sch.linkage(data_scaled, method='ward'))\n",
        "plt.title('Dendrogram')\n",
        "plt.xlabel('Samples')\n",
        "plt.ylabel('Distance')\n",
        "plt.show()"
      ],
      "metadata": {
        "id": "2uGcm13Lc3cx"
      },
      "execution_count": null,
      "outputs": []
    },
    {
      "cell_type": "code",
      "source": [
        "from sklearn.feature_selection import SequentialFeatureSelector\n",
        "from sklearn.linear_model import LinearRegression\n",
        "from sklearn.preprocessing import StandardScaler\n",
        "# Separate features and target\n",
        "\n",
        "X = data.drop(columns=['status'])  # Features\n",
        "y = data['status']  # Target\n",
        "\n",
        "# Select only numeric columns for feature selection\n",
        "numeric_columns = X.select_dtypes(include=['number']).columns.tolist()\n",
        "X_numeric = X[numeric_columns]\n",
        "\n",
        "# Scale numeric data for feature selection\n",
        "scaler = StandardScaler()\n",
        "X_scaled = scaler.fit_transform(X_numeric)\n",
        "\n",
        "# Sequential Feature Selector\n",
        "selector = SequentialFeatureSelector(LinearRegression(), n_features_to_select=1)\n",
        "selector.fit(X_scaled, y)\n",
        "\n",
        "# Get selected features\n",
        "selected_features = X_numeric.columns[selector.support_]\n"
      ],
      "metadata": {
        "id": "hEEA6l6gc3fX"
      },
      "execution_count": null,
      "outputs": []
    },
    {
      "cell_type": "code",
      "source": [
        "from sklearn.decomposition import PCA\n",
        "\n",
        "# Perform PCA on scaled data\n",
        "pca = PCA(n_components=0.95)  # Captures 95% of variance\n",
        "X_pca = pca.fit_transform(X_scaled)\n",
        "\n",
        "# Get the number of components/features needed for 95% variance\n",
        "num_features_for_95_variance = pca.n_components_\n",
        "\n",
        "# Print the number of components/features needed for 95% variance\n",
        "print(\"Number of features needed for 95% variance in PCA:\", num_features_for_95_variance)\n"
      ],
      "metadata": {
        "id": "3qNFpIRDc3h4"
      },
      "execution_count": null,
      "outputs": []
    },
    {
      "cell_type": "code",
      "source": [
        "from sklearn.decomposition import PCA\n",
        "from sklearn.model_selection import train_test_split\n",
        "from sklearn.linear_model import LogisticRegression\n",
        "from sklearn.metrics import accuracy_score\n",
        "from sklearn.preprocessing import StandardScaler\n",
        "\n",
        "# PCA with K components\n",
        "K = 10  # Update with the desired number of components\n",
        "pca = PCA(n_components=K)\n",
        "X_pca = pca.fit_transform(X_scaled)\n",
        "\n",
        "# Splitting into training and testing sets\n",
        "X_train, X_test, y_train, y_test = train_test_split(X_pca, y, test_size=0.2, random_state=42)\n",
        "\n",
        "# Model (Logistic Regression as an example)\n",
        "model = LogisticRegression()\n",
        "model.fit(X_train, y_train)\n",
        "\n",
        "# Predictions\n",
        "y_pred = model.predict(X_test)\n",
        "\n",
        "# Calculate accuracy using the transformed dataset\n",
        "accuracy = accuracy_score(y_test, y_pred)\n",
        "print(\"Accuracy using transformed dataset:\", accuracy)"
      ],
      "metadata": {
        "id": "UrL0UGzodAyW"
      },
      "execution_count": null,
      "outputs": []
    },
    {
      "cell_type": "code",
      "source": [],
      "metadata": {
        "id": "gecxTWffdAzz"
      },
      "execution_count": null,
      "outputs": []
    },
    {
      "cell_type": "code",
      "source": [],
      "metadata": {
        "id": "QYzrEpfPdA3R"
      },
      "execution_count": null,
      "outputs": []
    }
  ]
}